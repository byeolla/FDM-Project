{
 "cells": [
  {
   "cell_type": "markdown",
   "metadata": {},
   "source": [
    "# Solving the Schroedinger Equations Using the Finite Difference Itme Domain Method"
   ]
  },
  {
   "cell_type": "markdown",
   "metadata": {},
   "source": [
    "10.1088/1751-8113/40/8/013"
   ]
  },
  {
   "cell_type": "code",
   "execution_count": 1,
   "metadata": {},
   "outputs": [],
   "source": [
    "import dataclasses\n",
    "import math\n",
    "\n",
    "import numpy as np\n",
    "\n",
    "from IPython import display\n",
    "import matplotlib as mpl\n",
    "from matplotlib import pyplot as plt\n",
    "from matplotlib.animation import FuncAnimation\n",
    "from scipy.io import savemat\n",
    "from tqdm import tqdm"
   ]
  },
  {
   "cell_type": "code",
   "execution_count": 2,
   "metadata": {},
   "outputs": [],
   "source": [
    "@dataclasses.dataclass(frozen=True)\n",
    "class Boundary:\n",
    "    start: float\n",
    "    end: float\n",
    "    step: float"
   ]
  },
  {
   "cell_type": "code",
   "execution_count": 3,
   "metadata": {},
   "outputs": [],
   "source": [
    "class DirichletSystem:\n",
    "    def __init__(self, pot, time_dom, spatial_doms, bd_cond=None, max_iter=None, stop_tol=1.0e-5, prior_vecs=None, **kwargs) -> None:\n",
    "        self.pbc = False\n",
    "        if prior_vecs is None:\n",
    "            self.priors = []\n",
    "        else:\n",
    "            self.priors = list(prior_vecs)\n",
    "        self.pot = pot\n",
    "        # 0: time, 1: X, 2: Y, 3: Z\n",
    "        self.time_dom = time_dom\n",
    "        self.spat_dom = list(spatial_doms)\n",
    "        self.vol = np.prod([dom.step for dom in self.spat_dom])\n",
    "        self.time_len = int((time_dom.end - time_dom.start) / time_dom.step) + 1\n",
    "        self._init_mesh()\n",
    "        # self._initialize()\n",
    "        self.bd_cond = bd_cond\n",
    "        self.counter = 0\n",
    "        self.stop_tol = stop_tol\n",
    "        self.max_iter = max_iter\n",
    "        self.logs = []\n",
    "    \n",
    "    def _init_mesh(self):\n",
    "        self.spaces = [np.linspace(dom.start, dom.end, int((dom.end - dom.start) / dom.step) + 1) for dom in self.spat_dom]\n",
    "        space_meshs = [x for x in np.meshgrid(*self.spaces, indexing='ij')]\n",
    "        print(space_meshs[0].shape)\n",
    "        self.sol_mesh = np.zeros([*space_meshs[0].shape])\n",
    "        self.sol_shape = tuple(self.sol_mesh.shape)\n",
    "        self.space_meshs = np.asarray([x.flatten() for x in space_meshs])\n",
    "        self.ndim = len(self.sol_shape)\n",
    "\n",
    "    def normalize(self, psi):\n",
    "        nn = np.sqrt(np.sum(psi * psi))\n",
    "        nn = 1.0 / nn\n",
    "        out = psi * nn\n",
    "        return out\n",
    "\n",
    "    def _initialize(self, psi0_grid):\n",
    "        self.sol_mesh = psi0_grid\n",
    "        self._apply_boundary()\n",
    "\n",
    "        pot_grid = np.zeros(np.prod(self.sol_shape))\n",
    "        for i, xi in enumerate(zip(*self.space_meshs)):\n",
    "            pot_grid[i] = self.pot(*xi)\n",
    "        self.pot_grid = pot_grid.reshape(self.sol_shape)\n",
    "\n",
    "#     def set_psi0_by_func(self, func):\n",
    "#         psi0_grid = np.zeros(np.prod(self.sol_shape))\n",
    "#         for i, xi in enumerate(zip(*self.space_meshs)):\n",
    "#             psi0_grid[i] = func(*xi)\n",
    "#         psi0_grid = psi0_grid.reshape(self.sol_shape)\n",
    "#         self._initialize(psi0_grid)\n",
    "\n",
    "    def set_psi0_by_grid(self, psi0_grid):\n",
    "        self._initialize(psi0_grid)\n",
    "\n",
    "    def _apply_boundary(self):\n",
    "        if (self.bd_cond is None) and (self.pbc == False):\n",
    "            sx = slice(None, None, None)\n",
    "            for i, l in enumerate(self.sol_shape):\n",
    "                ind = tuple([0 if i == j else sx for j in range(self.ndim)])\n",
    "                self.sol_mesh[ind] = 0.0\n",
    "                ind = tuple([l - 1 if i == j else sx for j in range(self.ndim)])\n",
    "                self.sol_mesh[ind] = 0.0\n",
    "                \n",
    "    def _prepare(self, *args, **kwargs):\n",
    "        psi = self.sol_mesh\n",
    "        for vec in self.priors:\n",
    "            inner = np.sum(psi * self.normalize(vec) * self.vol)\n",
    "            self.sol_mesh -= inner * vec\n",
    "\n",
    "    def solve(self):\n",
    "        dt = self.time_dom.step\n",
    "        self.energy_series = np.zeros(self.time_len)\n",
    "        sx = slice(None, None, None)\n",
    "\n",
    "        beta = 1.0 / (1.0 + 0.5 * dt * self.pot_grid)\n",
    "        alpha = (1.0 - 0.5 * dt * self.pot_grid) * beta\n",
    "        self._prepare()\n",
    "        \n",
    "        if self.max_iter is not None and self.max_iter < self.time_len:\n",
    "            t_len = self.max_iter\n",
    "        else:\n",
    "            t_len = self.time_len\n",
    "    \n",
    "        kine = np.zeros(self.sol_shape)\n",
    "        term = np.zeros(self.sol_shape)\n",
    "        for n in tqdm(range(0, t_len)):\n",
    "            self.counter = n\n",
    "            kine.fill(0)\n",
    "            px = self.sol_mesh\n",
    "\n",
    "            self._prepare()\n",
    "            \n",
    "            for i in range(self.ndim):\n",
    "                if self.pbc:\n",
    "                    ind0 = tuple([0 if i == j else sx for j in range(self.ndim)])\n",
    "                    ind1 = tuple([1 if i == j else sx for j in range(self.ndim)])\n",
    "                    ind2 = tuple([-1 if i == j else sx for j in range(self.ndim)])\n",
    "                    ind3 = tuple([-2 if i == j else sx for j in range(self.ndim)])\n",
    "                    \n",
    "                    px[ind2] = px[ind0] + (1/3) * px[ind3] - (1/3) * px[ind1]\n",
    "                \n",
    "                ind1 = tuple([slice(1, -1, None) if i == j else sx for j in range(self.ndim)])\n",
    "                ind2 = tuple([slice(0, -2, None) if i == j else sx for j in range(self.ndim)])\n",
    "                ind3 = tuple([slice(2, None, None) if i == j else sx for j in range(self.ndim)])\n",
    "\n",
    "                term = px[ind2] + px[ind3] - 2.0 * px[ind1]\n",
    "\n",
    "                if self.pbc:\n",
    "                    ind0 = tuple([0 if i == j else sx for j in range(self.ndim)])\n",
    "                    ind1 = tuple([1 if i == j else sx for j in range(self.ndim)])\n",
    "                    ind2 = tuple([-1 if i == j else sx for j in range(self.ndim)])\n",
    "                    ind3 = tuple([-2 if i == j else sx for j in range(self.ndim)])\n",
    "                    \n",
    "                    term += px[ind3]\n",
    "                    term += px[ind1]\n",
    "                    term -= px[ind0]\n",
    "                    term -= px[ind2]\n",
    "                \n",
    "                ind1 = tuple([slice(1, -1, None) if i == j else sx for j in range(self.ndim)])\n",
    "                term /= (2.0 * self.spat_dom[i].step ** 2)\n",
    "                kine[ind1] += term\n",
    "\n",
    "            energy_before = np.sum(self.pot_grid * px * px) - (kine * px).sum()\n",
    "            energy_before /= (px * px).sum()\n",
    "\n",
    "            self.energy_series[n] = energy_before # * self.vol ** 2\n",
    "            \n",
    "            if n + 1 < self.time_len:\n",
    "                self.sol_mesh = alpha * self.sol_mesh\n",
    "                self.sol_mesh += dt * beta * kine\n",
    "                # self._apply_boundary(n + 1)\n",
    "                \n",
    "                psi = self.sol_mesh\n",
    "                nn2 = np.sum(psi * psi) * self.vol\n",
    "                self.logs.append(np.sqrt(nn2))\n",
    "                \n",
    "                self.sol_mesh = self.normalize(self.sol_mesh)\n",
    "\n",
    "            if n > 0 and self.stop_tol is not None:\n",
    "                error = np.abs(1 - self.energy_series[n - 1] / energy_before)\n",
    "                if error < self.stop_tol:\n",
    "                    break\n",
    "\n",
    "    def get_solution(self):\n",
    "        return self.spaces, self.sol_mesh\n",
    "    \n",
    "    def get_full_mesh(self):\n",
    "        return self.spaces, self.sol_mesh\n",
    "\n",
    "    def get_energy(self):\n",
    "        return self.energy_series"
   ]
  },
  {
   "cell_type": "code",
   "execution_count": 11,
   "metadata": {},
   "outputs": [
    {
     "name": "stdout",
     "output_type": "stream",
     "text": [
      "(101, 101)\n"
     ]
    },
    {
     "name": "stderr",
     "output_type": "stream",
     "text": [
      "  1%|▍                                                                       | 10090/1500000 [00:02<05:50, 4256.13it/s]\n"
     ]
    },
    {
     "name": "stdout",
     "output_type": "stream",
     "text": [
      "(101, 101)\n"
     ]
    },
    {
     "name": "stderr",
     "output_type": "stream",
     "text": [
      "  0%|▏                                                                        | 2602/1500000 [00:00<07:16, 3430.72it/s]\n"
     ]
    }
   ],
   "source": [
    "x0, x1, dx = 0., 1., 0.01\n",
    "ndim = 2\n",
    "t0, t1, dt = 0.0, 30.0, dx*dx*0.2\n",
    "\n",
    "# psi0 = np.load('psi.npy')\n",
    "\n",
    "dom_t = Boundary(t0, t1, dt)\n",
    "dom_x = Boundary(x0, x1, dx)\n",
    "space_dom = [dom_x] * ndim\n",
    "\n",
    "def pot(x, y, eps=1.0e-05, cut=7.5):\n",
    "#     r = np.sqrt(x*x+y*y+z*z)\n",
    "#     return 0.0 if r < cut else 1.0/cut - 1.0/r\n",
    "    return 0.0\n",
    "\n",
    "\n",
    "\n",
    "sys1 = DirichletSystem(pot=pot, time_dom=dom_t, spatial_doms=space_dom, stop_tol=1.0e-6, max_iter=None)\n",
    "\n",
    "X, Y= sys1.spaces\n",
    "# X, Y, Z = np.meshgrid(X, Y, Z, indexing='ij')\n",
    "R = np.sqrt(X*X+Y*Y)\n",
    "psi0 = np.exp(-2*R) + 0.1*np.random.randn(*sys1.sol_shape)\n",
    "\n",
    "\n",
    "sys1.set_psi0_by_grid(psi0)\n",
    "sys1.solve()\n",
    "\n",
    "_, u = sys1.get_solution()\n",
    "v1 = u.copy()\n",
    "\n",
    "sys2 = DirichletSystem(pot=pot, time_dom=dom_t, spatial_doms=space_dom, prior_vecs=[v1], stop_tol=1.0e-4, max_iter=None)\n",
    "sys2.set_psi0_by_grid(psi0)\n",
    "sys2.solve()\n",
    "\n",
    "_, u = sys2.get_solution()\n",
    "v2 = u.copy()"
   ]
  },
  {
   "cell_type": "code",
   "execution_count": 9,
   "metadata": {
    "scrolled": false
   },
   "outputs": [
    {
     "ename": "IndexError",
     "evalue": "too many indices for array: array is 2-dimensional, but 3 were indexed",
     "output_type": "error",
     "traceback": [
      "\u001b[1;31m---------------------------------------------------------------------------\u001b[0m",
      "\u001b[1;31mIndexError\u001b[0m                                Traceback (most recent call last)",
      "Input \u001b[1;32mIn [9]\u001b[0m, in \u001b[0;36m<cell line: 6>\u001b[1;34m()\u001b[0m\n\u001b[0;32m      4\u001b[0m skip \u001b[38;5;241m=\u001b[39m \u001b[38;5;241m1\u001b[39m\n\u001b[0;32m      5\u001b[0m \u001b[38;5;66;03m# print(V**2)\u001b[39;00m\n\u001b[1;32m----> 6\u001b[0m ax2\u001b[38;5;241m.\u001b[39mplot(X, X\u001b[38;5;241m*\u001b[39mX\u001b[38;5;241m*\u001b[39m\u001b[43mV\u001b[49m\u001b[43m[\u001b[49m\u001b[38;5;241;43m100\u001b[39;49m\u001b[43m,\u001b[49m\u001b[43m \u001b[49m\u001b[38;5;241;43m100\u001b[39;49m\u001b[43m,\u001b[49m\u001b[43m \u001b[49m\u001b[43m:\u001b[49m\u001b[43m]\u001b[49m \u001b[38;5;241m*\u001b[39m\u001b[38;5;241m*\u001b[39m \u001b[38;5;241m2\u001b[39m, \u001b[38;5;124m'\u001b[39m\u001b[38;5;124mrx\u001b[39m\u001b[38;5;124m'\u001b[39m, label\u001b[38;5;241m=\u001b[39m\u001b[38;5;124m'\u001b[39m\u001b[38;5;124m$\u001b[39m\u001b[38;5;124m\\\u001b[39m\u001b[38;5;124mpsi_1$\u001b[39m\u001b[38;5;124m'\u001b[39m)\n\u001b[0;32m      7\u001b[0m ax2\u001b[38;5;241m.\u001b[39mlegend()\n\u001b[0;32m      8\u001b[0m ax2\u001b[38;5;241m.\u001b[39mgrid()\n",
      "\u001b[1;31mIndexError\u001b[0m: too many indices for array: array is 2-dimensional, but 3 were indexed"
     ]
    },
    {
     "data": {
      "image/png": "[encoded data removed]",
      "text/plain": [
       "<Figure size 640x480 with 1 Axes>"
      ]
     },
     "metadata": {},
     "output_type": "display_data"
    }
   ],
   "source": [
    "(X, Y), V = sys2.get_solution()\n",
    "\n",
    "fig2, ax2 = plt.subplots()\n",
    "skip = 1\n",
    "# print(V**2)\n",
    "ax2.plot(X, X*X*V[100, 100, :] ** 2, 'rx', label='$\\psi_1$')\n",
    "ax2.legend()\n",
    "ax2.grid()\n",
    "# ax2.set_ylim(-0.1, 2.0)\n",
    "plt.show(fig2)\n",
    "\n",
    "np.save('psi 2d free.npy', V)\n",
    "X, Y, Z = np.meshgrid(X, Y, Z, indexing='ij')\n",
    "density = (X*X+Y*Y+Z*Z)*V**2\n",
    "savemat('dens1 2d free.mat', {'x': X.flat, 'y': Y.flat, 'z': Z.flat, 'density': density.flat})\n",
    "print(sys1.get_energy()[-1])"
   ]
  },
  {
   "cell_type": "markdown",
   "metadata": {},
   "source": [
    "print(sys1.get_energy().min())"
   ]
  },
  {
   "cell_type": "markdown",
   "metadata": {},
   "source": [
    "sys2 = DirichletSystem(pot=pot, time_dom=dom_t, spatial_doms=space_dom, prior_vecs=[v1], stop_tol=1.0e-4, max_iter=None)\n",
    "sys2.set_psi0_by_grid(psi0)\n",
    "sys2.solve()\n",
    "\n",
    "_, u = sys2.get_solution()\n",
    "v2 = u.copy()"
   ]
  },
  {
   "cell_type": "markdown",
   "metadata": {},
   "source": [
    "(X, Y, Z), V = sys2.get_solution()\n",
    "\n",
    "fig3, ax3 = plt.subplots()\n",
    "skip = 1\n",
    "# print(V**2)\n",
    "ax3.plot(X, X*X*V[100, 100, :] ** 2, 'rx', label='$\\psi_1$')\n",
    "ax3.legend()\n",
    "ax3.grid()\n",
    "# ax2.set_ylim(-0.1, 2.0)\n",
    "plt.show(fig3)\n",
    "\n",
    "np.save('psi2.npy', V)\n",
    "X, Y, Z = np.meshgrid(X, Y, Z, indexing='ij')\n",
    "density = (X*X+Y*Y+Z*Z)*V**2\n",
    "savemat('dens2.mat', {'x': X.flat, 'y': Y.flat, 'z': Z.flat, 'density': density.flat})\n",
    "print(sys1.get_energy()[-1])"
   ]
  },
  {
   "cell_type": "markdown",
   "metadata": {},
   "source": [
    "x = X[:,0, 0]"
   ]
  },
  {
   "cell_type": "markdown",
   "metadata": {},
   "source": [
    "plt.plot(x, (-x**5 + 25*x**4 - 200 * x**3 + 600*x + 120)/120)\n",
    "# plt.xlim(0,8)\n",
    "# plt.ylim(-1,5)"
   ]
  }
 ],
 "metadata": {
  "kernelspec": {
   "display_name": "Python 3 (ipykernel)",
   "language": "python",
   "name": "python3"
  },
  "language_info": {
   "codemirror_mode": {
    "name": "ipython",
    "version": 3
   },
   "file_extension": ".py",
   "mimetype": "text/x-python",
   "name": "python",
   "nbconvert_exporter": "python",
   "pygments_lexer": "ipython3",
   "version": "3.10.4"
  },
  "vscode": {
   "interpreter": {
    "hash": "b2e5b7e03fe9e17d42ebd53b66a8d1e66060a9807a6f22e634857e347041ccb3"
   }
  }
 },
 "nbformat": 4,
 "nbformat_minor": 2
}
