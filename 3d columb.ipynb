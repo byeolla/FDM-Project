{
 "cells": [
  {
   "cell_type": "markdown",
   "metadata": {},
   "source": [
    "# Solving the Schroedinger Equations Using the Finite Difference Itme Domain Method"
   ]
  },
  {
   "cell_type": "markdown",
   "metadata": {},
   "source": [
    "10.1088/1751-8113/40/8/013"
   ]
  },
  {
   "cell_type": "code",
   "execution_count": 1,
   "metadata": {},
   "outputs": [],
   "source": [
    "import dataclasses\n",
    "import math\n",
    "\n",
    "import numpy as np\n",
    "\n",
    "from IPython import display\n",
    "import matplotlib as mpl\n",
    "from matplotlib import pyplot as plt\n",
    "from matplotlib.animation import FuncAnimation\n",
    "from scipy.io import savemat\n",
    "from tqdm import tqdm"
   ]
  },
  {
   "cell_type": "code",
   "execution_count": 2,
   "metadata": {},
   "outputs": [],
   "source": [
    "@dataclasses.dataclass(frozen=True)\n",
    "class Boundary:\n",
    "    start: float\n",
    "    end: float\n",
    "    step: float"
   ]
  },
  {
   "cell_type": "code",
   "execution_count": 3,
   "metadata": {},
   "outputs": [],
   "source": [
    "class DirichletSystem:\n",
    "    def __init__(self, pot, time_dom, spatial_doms, bd_cond=None, max_iter=None, stop_tol=1.0e-5, prior_vecs=None, **kwargs) -> None:\n",
    "        self.pbc = False\n",
    "        if prior_vecs is None:\n",
    "            self.priors = []\n",
    "        else:\n",
    "            self.priors = list(prior_vecs)\n",
    "        self.pot = pot\n",
    "        # 0: time, 1: X, 2: Y, 3: Z\n",
    "        self.time_dom = time_dom\n",
    "        self.spat_dom = list(spatial_doms)\n",
    "        self.vol = np.prod([dom.step for dom in self.spat_dom])\n",
    "        self.time_len = int((time_dom.end - time_dom.start) / time_dom.step) + 1\n",
    "        self._init_mesh()\n",
    "        # self._initialize()\n",
    "        self.bd_cond = bd_cond\n",
    "        self.counter = 0\n",
    "        self.stop_tol = stop_tol\n",
    "        self.max_iter = max_iter\n",
    "        self.logs = []\n",
    "    \n",
    "    def _init_mesh(self):\n",
    "        self.spaces = [np.linspace(dom.start, dom.end, int((dom.end - dom.start) / dom.step) + 1) for dom in self.spat_dom]\n",
    "        space_meshs = [x for x in np.meshgrid(*self.spaces, indexing='ij')]\n",
    "        print(space_meshs[0].shape)\n",
    "        self.sol_mesh = np.zeros([*space_meshs[0].shape])\n",
    "        self.sol_shape = tuple(self.sol_mesh.shape)\n",
    "        self.space_meshs = np.asarray([x.flatten() for x in space_meshs])\n",
    "        self.ndim = len(self.sol_shape)\n",
    "\n",
    "    def normalize(self, psi):\n",
    "        nn = np.sqrt(np.sum(psi * psi)*self.vol)\n",
    "        nn = 1.0 / nn\n",
    "        out = psi * nn\n",
    "        return out\n",
    "\n",
    "    def _initialize(self, psi0_grid):\n",
    "        self.sol_mesh = psi0_grid\n",
    "        self._apply_boundary()\n",
    "\n",
    "        pot_grid = np.zeros(np.prod(self.sol_shape))\n",
    "        for i, xi in enumerate(zip(*self.space_meshs)):\n",
    "            pot_grid[i] = self.pot(*xi)\n",
    "        self.pot_grid = pot_grid.reshape(self.sol_shape)\n",
    "\n",
    "#     def set_psi0_by_func(self, func):\n",
    "#         psi0_grid = np.zeros(np.prod(self.sol_shape))\n",
    "#         for i, xi in enumerate(zip(*self.space_meshs)):\n",
    "#             psi0_grid[i] = func(*xi)\n",
    "#         psi0_grid = psi0_grid.reshape(self.sol_shape)\n",
    "#         self._initialize(psi0_grid)\n",
    "\n",
    "    def set_psi0_by_grid(self, psi0_grid):\n",
    "        self._initialize(psi0_grid)\n",
    "\n",
    "    def _apply_boundary(self):\n",
    "        if (self.bd_cond is None) and (self.pbc == False):\n",
    "            sx = slice(None, None, None)\n",
    "            for i, l in enumerate(self.sol_shape):\n",
    "                ind = tuple([0 if i == j else sx for j in range(self.ndim)])\n",
    "                self.sol_mesh[ind] = 0.0\n",
    "                ind = tuple([l - 1 if i == j else sx for j in range(self.ndim)])\n",
    "                self.sol_mesh[ind] = 0.0\n",
    "                \n",
    "    def _prepare(self, *args, **kwargs):\n",
    "        psi = self.sol_mesh\n",
    "        for vec in self.priors:\n",
    "            inner = np.sum(psi * self.normalize(vec) * self.vol)\n",
    "            self.sol_mesh -= inner * vec\n",
    "\n",
    "    def solve(self):\n",
    "        dt = self.time_dom.step\n",
    "        self.energy_series = np.zeros(self.time_len)\n",
    "        sx = slice(None, None, None)\n",
    "\n",
    "        beta = 1.0 / (1.0 + 0.5 * dt * self.pot_grid)\n",
    "        alpha = (1.0 - 0.5 * dt * self.pot_grid) * beta\n",
    "        self._prepare()\n",
    "        \n",
    "        if self.max_iter is not None and self.max_iter < self.time_len:\n",
    "            t_len = self.max_iter\n",
    "        else:\n",
    "            t_len = self.time_len\n",
    "    \n",
    "        kine = np.zeros(self.sol_shape)\n",
    "        term = np.zeros(self.sol_shape)\n",
    "        for n in tqdm(range(0, t_len)):\n",
    "            self.counter = n\n",
    "            kine.fill(0)\n",
    "            px = self.sol_mesh\n",
    "\n",
    "            self._prepare()\n",
    "            \n",
    "            for i in range(self.ndim):\n",
    "                if self.pbc:\n",
    "                    ind0 = tuple([0 if i == j else sx for j in range(self.ndim)])\n",
    "                    ind1 = tuple([1 if i == j else sx for j in range(self.ndim)])\n",
    "                    ind2 = tuple([-1 if i == j else sx for j in range(self.ndim)])\n",
    "                    ind3 = tuple([-2 if i == j else sx for j in range(self.ndim)])\n",
    "                    \n",
    "                    px[ind2] = px[ind0] + (1/3) * px[ind3] - (1/3) * px[ind1]\n",
    "                \n",
    "                ind1 = tuple([slice(1, -1, None) if i == j else sx for j in range(self.ndim)])\n",
    "                ind2 = tuple([slice(0, -2, None) if i == j else sx for j in range(self.ndim)])\n",
    "                ind3 = tuple([slice(2, None, None) if i == j else sx for j in range(self.ndim)])\n",
    "\n",
    "                term = px[ind2] + px[ind3] - 2.0 * px[ind1]\n",
    "\n",
    "                if self.pbc:\n",
    "                    ind0 = tuple([0 if i == j else sx for j in range(self.ndim)])\n",
    "                    ind1 = tuple([1 if i == j else sx for j in range(self.ndim)])\n",
    "                    ind2 = tuple([-1 if i == j else sx for j in range(self.ndim)])\n",
    "                    ind3 = tuple([-2 if i == j else sx for j in range(self.ndim)])\n",
    "                    \n",
    "                    term += px[ind3]\n",
    "                    term += px[ind1]\n",
    "                    term -= px[ind0]\n",
    "                    term -= px[ind2]\n",
    "                \n",
    "                ind1 = tuple([slice(1, -1, None) if i == j else sx for j in range(self.ndim)])\n",
    "                term /= (2.0 * self.spat_dom[i].step ** 2)\n",
    "                kine[ind1] += term\n",
    "\n",
    "            energy_before = np.sum(self.pot_grid * px * px) - (kine * px).sum()\n",
    "            energy_before /= (px * px).sum()\n",
    "\n",
    "            self.energy_series[n] = energy_before # * self.vol ** 2\n",
    "            \n",
    "            if n + 1 < self.time_len:\n",
    "                self.sol_mesh = alpha * self.sol_mesh\n",
    "                self.sol_mesh += dt * beta * kine\n",
    "                # self._apply_boundary(n + 1)\n",
    "                \n",
    "                psi = self.sol_mesh\n",
    "                nn2 = np.sum(psi * psi) * self.vol\n",
    "                self.logs.append(np.sqrt(nn2))\n",
    "                \n",
    "                self.sol_mesh = self.normalize(self.sol_mesh)\n",
    "\n",
    "            if n > 0 and self.stop_tol is not None:\n",
    "                error = np.abs(1 - self.energy_series[n - 1] / energy_before)\n",
    "                if error < self.stop_tol:\n",
    "                    break\n",
    "            \n",
    "            if n % 100 == 0:\n",
    "                np.save('psi', self.sol_mesh)\n",
    "    def get_solution(self):\n",
    "        return self.spaces, self.sol_mesh\n",
    "    \n",
    "    def get_full_mesh(self):\n",
    "        return self.spaces, self.sol_mesh\n",
    "\n",
    "    def get_energy(self):\n",
    "        return self.energy_series"
   ]
  },
  {
   "cell_type": "code",
   "execution_count": 4,
   "metadata": {},
   "outputs": [],
   "source": [
    "x0, x1, dx = -10.0, 10.0, 0.07\n",
    "ndim = 3\n",
    "t0, t1, dt = 0.0, 1.5, dx*dx*0.25\n",
    "\n",
    "\n",
    "\n",
    "dom_t = Boundary(t0, t1, dt)\n",
    "dom_x = Boundary(x0, x1, dx)\n",
    "space_dom = [dom_x] * ndim\n",
    "\n",
    "def pot(x, y, z, eps=1.0e-05, cut=1.0/dx):\n",
    "    r = np.sqrt(x*x+y*y+z*z)\n",
    "    return 0.0 if r < 1.0/cut else cut - 1.0/r\n",
    "#     return 0.0"
   ]
  },
  {
   "cell_type": "code",
   "execution_count": 5,
   "metadata": {},
   "outputs": [
    {
     "name": "stdout",
     "output_type": "stream",
     "text": [
      "(286, 286, 286)\n"
     ]
    },
    {
     "name": "stderr",
     "output_type": "stream",
     "text": [
      "  0%|                                                                                            | 1/1225 [00:05<2:02:09,  5.99s/it]\n"
     ]
    },
    {
     "ename": "KeyboardInterrupt",
     "evalue": "",
     "output_type": "error",
     "traceback": [
      "\u001b[1;31m---------------------------------------------------------------------------\u001b[0m",
      "\u001b[1;31mKeyboardInterrupt\u001b[0m                         Traceback (most recent call last)",
      "Cell \u001b[1;32mIn[5], line 12\u001b[0m\n\u001b[0;32m      9\u001b[0m \u001b[38;5;66;03m# psi0 = np.exp(-R) + 0.1*np.random.randn(*sys1.sol_shape)\u001b[39;00m\n\u001b[0;32m     11\u001b[0m sys1\u001b[38;5;241m.\u001b[39mset_psi0_by_grid(psi0)\n\u001b[1;32m---> 12\u001b[0m sys1\u001b[38;5;241m.\u001b[39msolve()\n\u001b[0;32m     14\u001b[0m _, u \u001b[38;5;241m=\u001b[39m sys1\u001b[38;5;241m.\u001b[39mget_solution()\n\u001b[0;32m     15\u001b[0m v1 \u001b[38;5;241m=\u001b[39m u\u001b[38;5;241m.\u001b[39mcopy()\n",
      "Cell \u001b[1;32mIn[3], line 124\u001b[0m, in \u001b[0;36mDirichletSystem.solve\u001b[1;34m(self)\u001b[0m\n\u001b[0;32m    121\u001b[0m     term \u001b[38;5;241m/\u001b[39m\u001b[38;5;241m=\u001b[39m (\u001b[38;5;241m2.0\u001b[39m \u001b[38;5;241m*\u001b[39m \u001b[38;5;28mself\u001b[39m\u001b[38;5;241m.\u001b[39mspat_dom[i]\u001b[38;5;241m.\u001b[39mstep \u001b[38;5;241m*\u001b[39m\u001b[38;5;241m*\u001b[39m \u001b[38;5;241m2\u001b[39m)\n\u001b[0;32m    122\u001b[0m     kine[ind1] \u001b[38;5;241m+\u001b[39m\u001b[38;5;241m=\u001b[39m term\n\u001b[1;32m--> 124\u001b[0m energy_before \u001b[38;5;241m=\u001b[39m np\u001b[38;5;241m.\u001b[39msum(\u001b[38;5;28mself\u001b[39m\u001b[38;5;241m.\u001b[39mpot_grid \u001b[38;5;241m*\u001b[39m px \u001b[38;5;241m*\u001b[39m px) \u001b[38;5;241m-\u001b[39m (kine \u001b[38;5;241m*\u001b[39m px)\u001b[38;5;241m.\u001b[39msum()\n\u001b[0;32m    125\u001b[0m energy_before \u001b[38;5;241m/\u001b[39m\u001b[38;5;241m=\u001b[39m (px \u001b[38;5;241m*\u001b[39m px)\u001b[38;5;241m.\u001b[39msum()\n\u001b[0;32m    127\u001b[0m \u001b[38;5;28mself\u001b[39m\u001b[38;5;241m.\u001b[39menergy_series[n] \u001b[38;5;241m=\u001b[39m energy_before \u001b[38;5;66;03m# * self.vol ** 2\u001b[39;00m\n",
      "File \u001b[1;32m~\\miniconda3\\envs\\example\\Lib\\site-packages\\numpy\\core\\fromnumeric.py:2172\u001b[0m, in \u001b[0;36m_sum_dispatcher\u001b[1;34m(a, axis, dtype, out, keepdims, initial, where)\u001b[0m\n\u001b[0;32m   2102\u001b[0m \u001b[38;5;250m    \u001b[39m\u001b[38;5;124;03m\"\"\"\u001b[39;00m\n\u001b[0;32m   2103\u001b[0m \u001b[38;5;124;03m    Clip (limit) the values in an array.\u001b[39;00m\n\u001b[0;32m   2104\u001b[0m \n\u001b[1;32m   (...)\u001b[0m\n\u001b[0;32m   2167\u001b[0m \n\u001b[0;32m   2168\u001b[0m \u001b[38;5;124;03m    \"\"\"\u001b[39;00m\n\u001b[0;32m   2169\u001b[0m     \u001b[38;5;28;01mreturn\u001b[39;00m _wrapfunc(a, \u001b[38;5;124m'\u001b[39m\u001b[38;5;124mclip\u001b[39m\u001b[38;5;124m'\u001b[39m, a_min, a_max, out\u001b[38;5;241m=\u001b[39mout, \u001b[38;5;241m*\u001b[39m\u001b[38;5;241m*\u001b[39mkwargs)\n\u001b[1;32m-> 2172\u001b[0m \u001b[38;5;28;01mdef\u001b[39;00m \u001b[38;5;21m_sum_dispatcher\u001b[39m(a, axis\u001b[38;5;241m=\u001b[39m\u001b[38;5;28;01mNone\u001b[39;00m, dtype\u001b[38;5;241m=\u001b[39m\u001b[38;5;28;01mNone\u001b[39;00m, out\u001b[38;5;241m=\u001b[39m\u001b[38;5;28;01mNone\u001b[39;00m, keepdims\u001b[38;5;241m=\u001b[39m\u001b[38;5;28;01mNone\u001b[39;00m,\n\u001b[0;32m   2173\u001b[0m                     initial\u001b[38;5;241m=\u001b[39m\u001b[38;5;28;01mNone\u001b[39;00m, where\u001b[38;5;241m=\u001b[39m\u001b[38;5;28;01mNone\u001b[39;00m):\n\u001b[0;32m   2174\u001b[0m     \u001b[38;5;28;01mreturn\u001b[39;00m (a, out)\n\u001b[0;32m   2177\u001b[0m \u001b[38;5;129m@array_function_dispatch\u001b[39m(_sum_dispatcher)\n\u001b[0;32m   2178\u001b[0m \u001b[38;5;28;01mdef\u001b[39;00m \u001b[38;5;21msum\u001b[39m(a, axis\u001b[38;5;241m=\u001b[39m\u001b[38;5;28;01mNone\u001b[39;00m, dtype\u001b[38;5;241m=\u001b[39m\u001b[38;5;28;01mNone\u001b[39;00m, out\u001b[38;5;241m=\u001b[39m\u001b[38;5;28;01mNone\u001b[39;00m, keepdims\u001b[38;5;241m=\u001b[39mnp\u001b[38;5;241m.\u001b[39m_NoValue,\n\u001b[0;32m   2179\u001b[0m         initial\u001b[38;5;241m=\u001b[39mnp\u001b[38;5;241m.\u001b[39m_NoValue, where\u001b[38;5;241m=\u001b[39mnp\u001b[38;5;241m.\u001b[39m_NoValue):\n",
      "\u001b[1;31mKeyboardInterrupt\u001b[0m: "
     ]
    }
   ],
   "source": [
    "# sys1 = DirichletSystem(pot=pot, time_dom=dom_t, spatial_doms=space_dom, stop_tol=1.0e-5, max_iter=None)\n",
    "sys1 = DirichletSystem(pot=pot, time_dom=dom_t, spatial_doms=space_dom, stop_tol=None, max_iter=None)\n",
    "\n",
    "X, Y, Z = sys1.spaces\n",
    "X, Y, Z = np.meshgrid(X, Y, Z, indexing='ij')\n",
    "R = np.sqrt(X*X+Y*Y+Z*Z)\n",
    "\n",
    "psi0 = np.load('psi.npy')\n",
    "# psi0 = np.exp(-R) + 0.1*np.random.randn(*sys1.sol_shape)\n",
    "\n",
    "sys1.set_psi0_by_grid(psi0)\n",
    "sys1.solve()\n",
    "\n",
    "_, u = sys1.get_solution()\n",
    "v1 = u.copy()"
   ]
  },
  {
   "cell_type": "code",
   "execution_count": null,
   "metadata": {},
   "outputs": [],
   "source": [
    "(X, Y, Z), V = sys1.get_solution()\n",
    "(X1, Y1, Z1), V1 = sys1.get_solution()\n",
    "fig1, ax1 = plt.subplots()\n",
    "ax1.plot(X1, X1*X1*V1[100, 100, :] ** 2, 'rx', label='1s orbital')\n",
    "ax1.legend()\n",
    "ax1.grid()\n",
    "ax1.set_title(\"1s orbital\")\n",
    "# plt.savefig(\"1s columb potential.png\", dpi = 300)\n",
    "# ax2.set_ylim(-0.1, 2.0)\n",
    "plt.show(fig1)\n"
   ]
  },
  {
   "cell_type": "code",
   "execution_count": null,
   "metadata": {
    "tags": []
   },
   "outputs": [],
   "source": [
    "f= open(\"energy.txt\", 'a')\n",
    "enr = sys1.get_energy()[-1]-1.0/dx\n",
    "enr = str(enr) + \"\\n\"\n",
    "print(enr)\n",
    "f.write(enr)"
   ]
  },
  {
   "cell_type": "code",
   "execution_count": null,
   "metadata": {
    "tags": []
   },
   "outputs": [],
   "source": [
    "fig2, ax2 = plt.subplots()\n",
    "skip = 1\n",
    "# print(V**2)\n",
    "ax2.plot(X, X*X*V[100, 100, :] ** 2, 'rx', label='2s orbital')\n",
    "ax2.legend()\n",
    "ax2.grid()\n",
    "ax2.set_title(\"2s orbital\")\n",
    "plt.savefig(\"1s columb potential.png\", dpi = 300)\n",
    "# ax2.set_ylim(-0.1, 2.0)\n",
    "plt.show(fig2)\n",
    "\n",
    "np.save('psi.npy', V)\n",
    "X, Y, Z = np.meshgrid(X, Y, Z, indexing='ij')\n",
    "density = (X*X+Y*Y+Z*Z)*V**2\n",
    "savemat('dens1.mat', {'x': X.flat, 'y': Y.flat, 'z': Z.flat, 'density': density.flat})\n"
   ]
  },
  {
   "cell_type": "code",
   "execution_count": null,
   "metadata": {
    "tags": []
   },
   "outputs": [],
   "source": [
    "np.save('psi',v1)"
   ]
  },
  {
   "cell_type": "code",
   "execution_count": null,
   "metadata": {
    "tags": []
   },
   "outputs": [],
   "source": [
    "sys1.get_energy()"
   ]
  },
  {
   "cell_type": "code",
   "execution_count": null,
   "metadata": {},
   "outputs": [],
   "source": [
    "sys2 = DirichletSystem(pot=pot, time_dom=dom_t, spatial_doms=space_dom, prior_vecs=[v1], stop_tol=None, max_iter=None)\n",
    "sys2.set_psi0_by_grid(psi0)\n",
    "sys2.solve()\n",
    "\n",
    "_, u = sys2.get_solution()\n",
    "v2 = u.copy()\n",
    "\n",
    "sys3 = DirichletSystem(pot=pot, time_dom=dom_t, spatial_doms=space_dom, prior_vecs=[v1, v2], stop_tol=None, max_iter=None)\n",
    "sys3.set_psi0_by_grid(psi0)\n",
    "sys3.solve()"
   ]
  },
  {
   "cell_type": "markdown",
   "metadata": {},
   "source": [
    "sys2 = DirichletSystem(pot=pot, time_dom=dom_t, spatial_doms=space_dom, prior_vecs=[v1], stop_tol=1.0e-4, max_iter=None)\n",
    "sys2.set_psi0_by_grid(psi0)\n",
    "sys2.solve()\n",
    "\n",
    "_, u = sys2.get_solution()\n",
    "v2 = u.copy()"
   ]
  },
  {
   "cell_type": "markdown",
   "metadata": {},
   "source": [
    "(X, Y, Z), V = sys2.get_solution()\n",
    "\n",
    "fig3, ax3 = plt.subplots()\n",
    "skip = 1\n",
    "# print(V**2)\n",
    "ax3.plot(X, X*X*V[100, 100, :] ** 2, 'rx', label='$\\psi_1$')\n",
    "ax3.legend()\n",
    "ax3.grid()\n",
    "# ax2.set_ylim(-0.1, 2.0)\n",
    "plt.show(fig3)\n",
    "\n",
    "np.save('psi2.npy', V)\n",
    "X, Y, Z = np.meshgrid(X, Y, Z, indexing='ij')\n",
    "density = (X*X+Y*Y+Z*Z)*V**2\n",
    "savemat('dens2.mat', {'x': X.flat, 'y': Y.flat, 'z': Z.flat, 'density': density.flat})\n",
    "print(sys1.get_energy()[-1])"
   ]
  },
  {
   "cell_type": "markdown",
   "metadata": {},
   "source": [
    "x = X[:,0, 0]"
   ]
  },
  {
   "cell_type": "markdown",
   "metadata": {},
   "source": [
    "plt.plot(x, (-x**5 + 25*x**4 - 200 * x**3 + 600*x + 120)/120)\n",
    "# plt.xlim(0,8)\n",
    "# plt.ylim(-1,5)"
   ]
  }
 ],
 "metadata": {
  "kernelspec": {
   "display_name": "Python 3 (ipykernel)",
   "language": "python",
   "name": "python3"
  },
  "language_info": {
   "codemirror_mode": {
    "name": "ipython",
    "version": 3
   },
   "file_extension": ".py",
   "mimetype": "text/x-python",
   "name": "python",
   "nbconvert_exporter": "python",
   "pygments_lexer": "ipython3",
   "version": "3.11.4"
  },
  "vscode": {
   "interpreter": {
    "hash": "b2e5b7e03fe9e17d42ebd53b66a8d1e66060a9807a6f22e634857e347041ccb3"
   }
  }
 },
 "nbformat": 4,
 "nbformat_minor": 4
}
